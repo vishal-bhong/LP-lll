{
  "cells": [
    {
      "cell_type": "code",
      "execution_count": 1,
      "id": "62f38d6b",
      "metadata": {
        "execution": {
          "iopub.execute_input": "2022-11-07T10:54:10.728898Z",
          "iopub.status.busy": "2022-11-07T10:54:10.728446Z",
          "iopub.status.idle": "2022-11-07T10:54:16.965917Z",
          "shell.execute_reply": "2022-11-07T10:54:16.964717Z"
        },
        "id": "62f38d6b",
        "papermill": {
          "duration": 6.252379,
          "end_time": "2022-11-07T10:54:16.968848",
          "exception": false,
          "start_time": "2022-11-07T10:54:10.716469",
          "status": "completed"
        },
        "tags": []
      },
      "outputs": [],
      "source": [
        "import pandas as pd\n",
        "import numpy as np\n",
        "import tensorflow as tf\n",
        "from tensorflow import keras\n",
        "import matplotlib.pyplot as plt\n",
        "import seaborn as sns\n",
        "from sklearn.metrics import confusion_matrix, classification_report\n",
        "import os\n",
        "%matplotlib inline"
      ]
    },
    {
      "cell_type": "code",
      "execution_count": 23,
      "id": "d011f6d4",
      "metadata": {
        "execution": {
          "iopub.execute_input": "2022-11-07T10:54:16.987969Z",
          "iopub.status.busy": "2022-11-07T10:54:16.987280Z",
          "iopub.status.idle": "2022-11-07T10:54:17.041450Z",
          "shell.execute_reply": "2022-11-07T10:54:17.040630Z"
        },
        "id": "d011f6d4",
        "outputId": "69396373-5134-462b-a5fe-138f7c0d5bce",
        "papermill": {
          "duration": 0.067228,
          "end_time": "2022-11-07T10:54:17.045010",
          "exception": false,
          "start_time": "2022-11-07T10:54:16.977782",
          "status": "completed"
        },
        "tags": []
      },
      "outputs": [],
      "source": [
        "df= pd.read_csv('Churn_Modelling.csv')"
      ]
    },
    {
      "cell_type": "code",
      "execution_count": 24,
      "id": "00a3de62",
      "metadata": {
        "execution": {
          "iopub.execute_input": "2022-11-07T10:54:17.065216Z",
          "iopub.status.busy": "2022-11-07T10:54:17.064480Z",
          "iopub.status.idle": "2022-11-07T10:54:17.072382Z",
          "shell.execute_reply": "2022-11-07T10:54:17.071623Z"
        },
        "id": "00a3de62",
        "outputId": "f858c6ec-4f64-4213-dd53-46306fa4c0b9",
        "papermill": {
          "duration": 0.019814,
          "end_time": "2022-11-07T10:54:17.074416",
          "exception": false,
          "start_time": "2022-11-07T10:54:17.054602",
          "status": "completed"
        },
        "tags": []
      },
      "outputs": [
        {
          "data": {
            "text/plain": [
              "(10000, 14)"
            ]
          },
          "execution_count": 24,
          "metadata": {},
          "output_type": "execute_result"
        }
      ],
      "source": [
        "df.shape"
      ]
    },
    {
      "cell_type": "code",
      "execution_count": 25,
      "id": "2b9ed202",
      "metadata": {
        "execution": {
          "iopub.execute_input": "2022-11-07T10:54:17.093364Z",
          "iopub.status.busy": "2022-11-07T10:54:17.092598Z",
          "iopub.status.idle": "2022-11-07T10:54:17.117006Z",
          "shell.execute_reply": "2022-11-07T10:54:17.115872Z"
        },
        "id": "2b9ed202",
        "outputId": "1892932c-5adf-4bcc-c8ef-8c5367c52926",
        "papermill": {
          "duration": 0.036487,
          "end_time": "2022-11-07T10:54:17.119305",
          "exception": false,
          "start_time": "2022-11-07T10:54:17.082818",
          "status": "completed"
        },
        "tags": []
      },
      "outputs": [
        {
          "data": {
            "text/html": [
              "<div>\n",
              "<style scoped>\n",
              "    .dataframe tbody tr th:only-of-type {\n",
              "        vertical-align: middle;\n",
              "    }\n",
              "\n",
              "    .dataframe tbody tr th {\n",
              "        vertical-align: top;\n",
              "    }\n",
              "\n",
              "    .dataframe thead th {\n",
              "        text-align: right;\n",
              "    }\n",
              "</style>\n",
              "<table border=\"1\" class=\"dataframe\">\n",
              "  <thead>\n",
              "    <tr style=\"text-align: right;\">\n",
              "      <th></th>\n",
              "      <th>RowNumber</th>\n",
              "      <th>CustomerId</th>\n",
              "      <th>Surname</th>\n",
              "      <th>CreditScore</th>\n",
              "      <th>Geography</th>\n",
              "      <th>Gender</th>\n",
              "      <th>Age</th>\n",
              "      <th>Tenure</th>\n",
              "      <th>Balance</th>\n",
              "      <th>NumOfProducts</th>\n",
              "      <th>HasCrCard</th>\n",
              "      <th>IsActiveMember</th>\n",
              "      <th>EstimatedSalary</th>\n",
              "      <th>Exited</th>\n",
              "    </tr>\n",
              "  </thead>\n",
              "  <tbody>\n",
              "    <tr>\n",
              "      <th>8313</th>\n",
              "      <td>8314</td>\n",
              "      <td>15750121</td>\n",
              "      <td>Tung</td>\n",
              "      <td>639</td>\n",
              "      <td>France</td>\n",
              "      <td>Male</td>\n",
              "      <td>38</td>\n",
              "      <td>3</td>\n",
              "      <td>0.00</td>\n",
              "      <td>1</td>\n",
              "      <td>1</td>\n",
              "      <td>0</td>\n",
              "      <td>42862.82</td>\n",
              "      <td>0</td>\n",
              "    </tr>\n",
              "    <tr>\n",
              "      <th>6480</th>\n",
              "      <td>6481</td>\n",
              "      <td>15693704</td>\n",
              "      <td>Tsou</td>\n",
              "      <td>679</td>\n",
              "      <td>France</td>\n",
              "      <td>Female</td>\n",
              "      <td>24</td>\n",
              "      <td>6</td>\n",
              "      <td>114948.76</td>\n",
              "      <td>2</td>\n",
              "      <td>0</td>\n",
              "      <td>1</td>\n",
              "      <td>135768.25</td>\n",
              "      <td>0</td>\n",
              "    </tr>\n",
              "    <tr>\n",
              "      <th>7192</th>\n",
              "      <td>7193</td>\n",
              "      <td>15644400</td>\n",
              "      <td>Anderson</td>\n",
              "      <td>709</td>\n",
              "      <td>France</td>\n",
              "      <td>Male</td>\n",
              "      <td>44</td>\n",
              "      <td>9</td>\n",
              "      <td>128601.98</td>\n",
              "      <td>1</td>\n",
              "      <td>1</td>\n",
              "      <td>0</td>\n",
              "      <td>117031.20</td>\n",
              "      <td>0</td>\n",
              "    </tr>\n",
              "    <tr>\n",
              "      <th>709</th>\n",
              "      <td>710</td>\n",
              "      <td>15734886</td>\n",
              "      <td>Mazzi</td>\n",
              "      <td>686</td>\n",
              "      <td>France</td>\n",
              "      <td>Female</td>\n",
              "      <td>34</td>\n",
              "      <td>3</td>\n",
              "      <td>123971.51</td>\n",
              "      <td>2</td>\n",
              "      <td>1</td>\n",
              "      <td>0</td>\n",
              "      <td>147794.63</td>\n",
              "      <td>0</td>\n",
              "    </tr>\n",
              "    <tr>\n",
              "      <th>9515</th>\n",
              "      <td>9516</td>\n",
              "      <td>15792922</td>\n",
              "      <td>Tu</td>\n",
              "      <td>639</td>\n",
              "      <td>Spain</td>\n",
              "      <td>Male</td>\n",
              "      <td>38</td>\n",
              "      <td>9</td>\n",
              "      <td>130233.14</td>\n",
              "      <td>1</td>\n",
              "      <td>1</td>\n",
              "      <td>1</td>\n",
              "      <td>81861.10</td>\n",
              "      <td>0</td>\n",
              "    </tr>\n",
              "  </tbody>\n",
              "</table>\n",
              "</div>"
            ],
            "text/plain": [
              "      RowNumber  CustomerId   Surname  CreditScore Geography  Gender  Age  \\\n",
              "8313       8314    15750121      Tung          639    France    Male   38   \n",
              "6480       6481    15693704      Tsou          679    France  Female   24   \n",
              "7192       7193    15644400  Anderson          709    France    Male   44   \n",
              "709         710    15734886     Mazzi          686    France  Female   34   \n",
              "9515       9516    15792922        Tu          639     Spain    Male   38   \n",
              "\n",
              "      Tenure    Balance  NumOfProducts  HasCrCard  IsActiveMember  \\\n",
              "8313       3       0.00              1          1               0   \n",
              "6480       6  114948.76              2          0               1   \n",
              "7192       9  128601.98              1          1               0   \n",
              "709        3  123971.51              2          1               0   \n",
              "9515       9  130233.14              1          1               1   \n",
              "\n",
              "      EstimatedSalary  Exited  \n",
              "8313         42862.82       0  \n",
              "6480        135768.25       0  \n",
              "7192        117031.20       0  \n",
              "709         147794.63       0  \n",
              "9515         81861.10       0  "
            ]
          },
          "execution_count": 25,
          "metadata": {},
          "output_type": "execute_result"
        }
      ],
      "source": [
        "df.sample(5)"
      ]
    },
    {
      "cell_type": "code",
      "execution_count": 26,
      "id": "706c9c96",
      "metadata": {
        "execution": {
          "iopub.execute_input": "2022-11-07T10:54:17.138583Z",
          "iopub.status.busy": "2022-11-07T10:54:17.138184Z",
          "iopub.status.idle": "2022-11-07T10:54:17.164657Z",
          "shell.execute_reply": "2022-11-07T10:54:17.163410Z"
        },
        "id": "706c9c96",
        "outputId": "b18e72af-f9c1-4503-8797-7e9f31436a3d",
        "papermill": {
          "duration": 0.039532,
          "end_time": "2022-11-07T10:54:17.167739",
          "exception": false,
          "start_time": "2022-11-07T10:54:17.128207",
          "status": "completed"
        },
        "tags": []
      },
      "outputs": [
        {
          "name": "stdout",
          "output_type": "stream",
          "text": [
            "<class 'pandas.core.frame.DataFrame'>\n",
            "RangeIndex: 10000 entries, 0 to 9999\n",
            "Data columns (total 14 columns):\n",
            " #   Column           Non-Null Count  Dtype  \n",
            "---  ------           --------------  -----  \n",
            " 0   RowNumber        10000 non-null  int64  \n",
            " 1   CustomerId       10000 non-null  int64  \n",
            " 2   Surname          10000 non-null  object \n",
            " 3   CreditScore      10000 non-null  int64  \n",
            " 4   Geography        10000 non-null  object \n",
            " 5   Gender           10000 non-null  object \n",
            " 6   Age              10000 non-null  int64  \n",
            " 7   Tenure           10000 non-null  int64  \n",
            " 8   Balance          10000 non-null  float64\n",
            " 9   NumOfProducts    10000 non-null  int64  \n",
            " 10  HasCrCard        10000 non-null  int64  \n",
            " 11  IsActiveMember   10000 non-null  int64  \n",
            " 12  EstimatedSalary  10000 non-null  float64\n",
            " 13  Exited           10000 non-null  int64  \n",
            "dtypes: float64(2), int64(9), object(3)\n",
            "memory usage: 1.1+ MB\n"
          ]
        }
      ],
      "source": [
        "df.info()"
      ]
    },
    {
      "cell_type": "code",
      "execution_count": 27,
      "id": "7ca5b10a",
      "metadata": {
        "execution": {
          "iopub.execute_input": "2022-11-07T10:54:17.189065Z",
          "iopub.status.busy": "2022-11-07T10:54:17.188632Z",
          "iopub.status.idle": "2022-11-07T10:54:17.196098Z",
          "shell.execute_reply": "2022-11-07T10:54:17.195002Z"
        },
        "id": "7ca5b10a",
        "papermill": {
          "duration": 0.019658,
          "end_time": "2022-11-07T10:54:17.198350",
          "exception": false,
          "start_time": "2022-11-07T10:54:17.178692",
          "status": "completed"
        },
        "tags": []
      },
      "outputs": [],
      "source": [
        "df.drop(['RowNumber','CustomerId','Surname'],axis=1,inplace=True)"
      ]
    },
    {
      "cell_type": "code",
      "execution_count": 28,
      "id": "4af8e524",
      "metadata": {
        "execution": {
          "iopub.execute_input": "2022-11-07T10:54:17.217874Z",
          "iopub.status.busy": "2022-11-07T10:54:17.217453Z",
          "iopub.status.idle": "2022-11-07T10:54:17.225629Z",
          "shell.execute_reply": "2022-11-07T10:54:17.224563Z"
        },
        "id": "4af8e524",
        "outputId": "cd41ad79-e9be-4c9a-b39f-3fa71f70bc6c",
        "papermill": {
          "duration": 0.020706,
          "end_time": "2022-11-07T10:54:17.227948",
          "exception": false,
          "start_time": "2022-11-07T10:54:17.207242",
          "status": "completed"
        },
        "tags": []
      },
      "outputs": [
        {
          "data": {
            "text/plain": [
              "CreditScore          int64\n",
              "Geography           object\n",
              "Gender              object\n",
              "Age                  int64\n",
              "Tenure               int64\n",
              "Balance            float64\n",
              "NumOfProducts        int64\n",
              "HasCrCard            int64\n",
              "IsActiveMember       int64\n",
              "EstimatedSalary    float64\n",
              "Exited               int64\n",
              "dtype: object"
            ]
          },
          "execution_count": 28,
          "metadata": {},
          "output_type": "execute_result"
        }
      ],
      "source": [
        "df.dtypes"
      ]
    },
    {
      "cell_type": "code",
      "execution_count": 29,
      "id": "beaca7ad",
      "metadata": {
        "execution": {
          "iopub.execute_input": "2022-11-07T10:54:17.247899Z",
          "iopub.status.busy": "2022-11-07T10:54:17.247530Z",
          "iopub.status.idle": "2022-11-07T10:54:17.255796Z",
          "shell.execute_reply": "2022-11-07T10:54:17.254532Z"
        },
        "id": "beaca7ad",
        "outputId": "625dd3d3-ef75-4296-df75-8f2d55991893",
        "papermill": {
          "duration": 0.021116,
          "end_time": "2022-11-07T10:54:17.258154",
          "exception": false,
          "start_time": "2022-11-07T10:54:17.237038",
          "status": "completed"
        },
        "tags": []
      },
      "outputs": [
        {
          "data": {
            "text/plain": [
              "0    7963\n",
              "1    2037\n",
              "Name: Exited, dtype: int64"
            ]
          },
          "execution_count": 29,
          "metadata": {},
          "output_type": "execute_result"
        }
      ],
      "source": [
        "df.Exited.value_counts()"
      ]
    },
    {
      "cell_type": "code",
      "execution_count": 30,
      "id": "8f4e5659",
      "metadata": {
        "execution": {
          "iopub.execute_input": "2022-11-07T10:54:17.278499Z",
          "iopub.status.busy": "2022-11-07T10:54:17.278109Z",
          "iopub.status.idle": "2022-11-07T10:54:17.288458Z",
          "shell.execute_reply": "2022-11-07T10:54:17.287703Z"
        },
        "id": "8f4e5659",
        "outputId": "4819f6d2-7deb-4a93-e9d2-636b26e82d9c",
        "papermill": {
          "duration": 0.023016,
          "end_time": "2022-11-07T10:54:17.290386",
          "exception": false,
          "start_time": "2022-11-07T10:54:17.267370",
          "status": "completed"
        },
        "tags": []
      },
      "outputs": [
        {
          "data": {
            "text/plain": [
              "CreditScore        0\n",
              "Geography          0\n",
              "Gender             0\n",
              "Age                0\n",
              "Tenure             0\n",
              "Balance            0\n",
              "NumOfProducts      0\n",
              "HasCrCard          0\n",
              "IsActiveMember     0\n",
              "EstimatedSalary    0\n",
              "Exited             0\n",
              "dtype: int64"
            ]
          },
          "execution_count": 30,
          "metadata": {},
          "output_type": "execute_result"
        }
      ],
      "source": [
        "df.isna().sum()"
      ]
    },
    {
      "cell_type": "code",
      "execution_count": 31,
      "id": "cf656503",
      "metadata": {
        "execution": {
          "iopub.execute_input": "2022-11-07T10:54:17.310196Z",
          "iopub.status.busy": "2022-11-07T10:54:17.309843Z",
          "iopub.status.idle": "2022-11-07T10:54:17.315048Z",
          "shell.execute_reply": "2022-11-07T10:54:17.313921Z"
        },
        "id": "cf656503",
        "papermill": {
          "duration": 0.017643,
          "end_time": "2022-11-07T10:54:17.317123",
          "exception": false,
          "start_time": "2022-11-07T10:54:17.299480",
          "status": "completed"
        },
        "tags": []
      },
      "outputs": [],
      "source": [
        "cat_cols=['Geography','Gender']\n",
        "num_cols=[col for col in df.columns if col not in cat_cols]"
      ]
    },
    {
      "cell_type": "code",
      "execution_count": 32,
      "id": "aefe532b",
      "metadata": {
        "execution": {
          "iopub.execute_input": "2022-11-07T10:54:17.337077Z",
          "iopub.status.busy": "2022-11-07T10:54:17.336634Z",
          "iopub.status.idle": "2022-11-07T10:54:17.344869Z",
          "shell.execute_reply": "2022-11-07T10:54:17.343432Z"
        },
        "id": "aefe532b",
        "outputId": "1329ad82-1cac-4ea2-84ff-8928be519f6c",
        "papermill": {
          "duration": 0.021596,
          "end_time": "2022-11-07T10:54:17.347765",
          "exception": false,
          "start_time": "2022-11-07T10:54:17.326169",
          "status": "completed"
        },
        "tags": []
      },
      "outputs": [
        {
          "name": "stdout",
          "output_type": "stream",
          "text": [
            "Geography : ['France' 'Spain' 'Germany']\n",
            "Gender : ['Female' 'Male']\n"
          ]
        }
      ],
      "source": [
        "for col in cat_cols:\n",
        "    print(f'{col} : {df[col].unique()}')"
      ]
    },
    {
      "cell_type": "code",
      "execution_count": 33,
      "id": "5c4095a3",
      "metadata": {
        "execution": {
          "iopub.execute_input": "2022-11-07T10:54:17.369384Z",
          "iopub.status.busy": "2022-11-07T10:54:17.368997Z",
          "iopub.status.idle": "2022-11-07T10:54:17.379107Z",
          "shell.execute_reply": "2022-11-07T10:54:17.378024Z"
        },
        "id": "5c4095a3",
        "papermill": {
          "duration": 0.023177,
          "end_time": "2022-11-07T10:54:17.381304",
          "exception": false,
          "start_time": "2022-11-07T10:54:17.358127",
          "status": "completed"
        },
        "tags": []
      },
      "outputs": [],
      "source": [
        "df['Gender'].replace({'Female':1,'Male':0},inplace=True)"
      ]
    },
    {
      "cell_type": "code",
      "execution_count": 34,
      "id": "4d280f41",
      "metadata": {
        "execution": {
          "iopub.execute_input": "2022-11-07T10:54:17.401578Z",
          "iopub.status.busy": "2022-11-07T10:54:17.401228Z",
          "iopub.status.idle": "2022-11-07T10:54:17.411962Z",
          "shell.execute_reply": "2022-11-07T10:54:17.411073Z"
        },
        "id": "4d280f41",
        "papermill": {
          "duration": 0.023869,
          "end_time": "2022-11-07T10:54:17.414435",
          "exception": false,
          "start_time": "2022-11-07T10:54:17.390566",
          "status": "completed"
        },
        "tags": []
      },
      "outputs": [],
      "source": [
        "df=pd.get_dummies(data=df, columns=['Geography'])"
      ]
    },
    {
      "cell_type": "code",
      "execution_count": 35,
      "id": "c61b9846",
      "metadata": {
        "execution": {
          "iopub.execute_input": "2022-11-07T10:54:17.434607Z",
          "iopub.status.busy": "2022-11-07T10:54:17.434215Z",
          "iopub.status.idle": "2022-11-07T10:54:17.720616Z",
          "shell.execute_reply": "2022-11-07T10:54:17.719551Z"
        },
        "id": "c61b9846",
        "outputId": "d3e221f2-bbda-4319-9c31-2b3fc34a5b50",
        "papermill": {
          "duration": 0.299513,
          "end_time": "2022-11-07T10:54:17.723184",
          "exception": false,
          "start_time": "2022-11-07T10:54:17.423671",
          "status": "completed"
        },
        "tags": []
      },
      "outputs": [
        {
          "data": {
            "text/plain": [
              "<matplotlib.legend.Legend at 0x1f50d294820>"
            ]
          },
          "execution_count": 35,
          "metadata": {},
          "output_type": "execute_result"
        },
        {
          "data": {
            "image/png": "[encoded data removed]",
            "text/plain": [
              "<Figure size 1000x800 with 1 Axes>"
            ]
          },
          "metadata": {},
          "output_type": "display_data"
        }
      ],
      "source": [
        "tenure_exited_0=df[df.Exited==0].Tenure\n",
        "tenure_exited_1=df[df.Exited==1].Tenure\n",
        "\n",
        "plt.figure(figsize=(10,8))\n",
        "plt.xlabel('T enure')\n",
        "plt.ylabel('Number of Customers Exited')\n",
        "plt.title('Bank Customer Churn prediction visualization')\n",
        "plt.hist([tenure_exited_1,tenure_exited_0], color=['green','red'], label=['Exited-yes','Exited-No'])\n",
        "plt.legend()"
      ]
    },
    {
      "cell_type": "code",
      "execution_count": 36,
      "id": "10ae1eaa",
      "metadata": {
        "execution": {
          "iopub.execute_input": "2022-11-07T10:54:17.744416Z",
          "iopub.status.busy": "2022-11-07T10:54:17.744034Z",
          "iopub.status.idle": "2022-11-07T10:54:17.989990Z",
          "shell.execute_reply": "2022-11-07T10:54:17.988932Z"
        },
        "id": "10ae1eaa",
        "outputId": "cd8d0f35-7205-4eb7-cc06-0fc03965b6ce",
        "papermill": {
          "duration": 0.259155,
          "end_time": "2022-11-07T10:54:17.992226",
          "exception": false,
          "start_time": "2022-11-07T10:54:17.733071",
          "status": "completed"
        },
        "tags": []
      },
      "outputs": [
        {
          "data": {
            "text/plain": [
              "<matplotlib.legend.Legend at 0x1f50d2ee920>"
            ]
          },
          "execution_count": 36,
          "metadata": {},
          "output_type": "execute_result"
        },
        {
          "data": {
            "image/png": "[encoded data removed]",
            "text/plain": [
              "<Figure size 1000x800 with 1 Axes>"
            ]
          },
          "metadata": {},
          "output_type": "display_data"
        }
      ],
      "source": [
        "creditscore_exited_0=df[df.Exited==0].CreditScore\n",
        "creditscore_exited_1=df[df.Exited==1].CreditScore\n",
        "\n",
        "plt.figure(figsize=(10,8))\n",
        "plt.xlabel('Credit Score')\n",
        "plt.ylabel('Number of Customers Exited')\n",
        "plt.title('Bank Customer Churn prediction visualization')\n",
        "plt.hist([creditscore_exited_1,creditscore_exited_0], color=['green','red'], label=['Exited-yes','Exited-No'])\n",
        "plt.legend()"
      ]
    },
    {
      "cell_type": "code",
      "execution_count": 37,
      "id": "4eb61728",
      "metadata": {
        "execution": {
          "iopub.execute_input": "2022-11-07T10:54:18.581188Z",
          "iopub.status.busy": "2022-11-07T10:54:18.580824Z",
          "iopub.status.idle": "2022-11-07T10:54:18.594150Z",
          "shell.execute_reply": "2022-11-07T10:54:18.592474Z"
        },
        "id": "4eb61728",
        "outputId": "0dc94264-4472-421b-b4f5-1fc041502a14",
        "papermill": {
          "duration": 0.028327,
          "end_time": "2022-11-07T10:54:18.596666",
          "exception": false,
          "start_time": "2022-11-07T10:54:18.568339",
          "status": "completed"
        },
        "tags": []
      },
      "outputs": [
        {
          "name": "stdout",
          "output_type": "stream",
          "text": [
            "<class 'pandas.core.frame.DataFrame'>\n",
            "RangeIndex: 10000 entries, 0 to 9999\n",
            "Data columns (total 13 columns):\n",
            " #   Column             Non-Null Count  Dtype  \n",
            "---  ------             --------------  -----  \n",
            " 0   CreditScore        10000 non-null  int64  \n",
            " 1   Gender             10000 non-null  int64  \n",
            " 2   Age                10000 non-null  int64  \n",
            " 3   Tenure             10000 non-null  int64  \n",
            " 4   Balance            10000 non-null  float64\n",
            " 5   NumOfProducts      10000 non-null  int64  \n",
            " 6   HasCrCard          10000 non-null  int64  \n",
            " 7   IsActiveMember     10000 non-null  int64  \n",
            " 8   EstimatedSalary    10000 non-null  float64\n",
            " 9   Exited             10000 non-null  int64  \n",
            " 10  Geography_France   10000 non-null  uint8  \n",
            " 11  Geography_Germany  10000 non-null  uint8  \n",
            " 12  Geography_Spain    10000 non-null  uint8  \n",
            "dtypes: float64(2), int64(8), uint8(3)\n",
            "memory usage: 810.7 KB\n"
          ]
        }
      ],
      "source": [
        "df.info()"
      ]
    },
    {
      "cell_type": "code",
      "execution_count": 38,
      "id": "5f225446",
      "metadata": {
        "execution": {
          "iopub.execute_input": "2022-11-07T10:54:18.620581Z",
          "iopub.status.busy": "2022-11-07T10:54:18.620206Z",
          "iopub.status.idle": "2022-11-07T10:54:18.632355Z",
          "shell.execute_reply": "2022-11-07T10:54:18.631411Z"
        },
        "id": "5f225446",
        "papermill": {
          "duration": 0.026914,
          "end_time": "2022-11-07T10:54:18.634729",
          "exception": false,
          "start_time": "2022-11-07T10:54:18.607815",
          "status": "completed"
        },
        "tags": []
      },
      "outputs": [],
      "source": [
        "# Scaling\n",
        "cols_to_scale=['CreditScore','Tenure','Balance','NumOfProducts','EstimatedSalary','Age']\n",
        "\n",
        "from sklearn.preprocessing import MinMaxScaler\n",
        "scaler=MinMaxScaler()\n",
        "\n",
        "df[cols_to_scale]=scaler.fit_transform(df[cols_to_scale])"
      ]
    },
    {
      "cell_type": "code",
      "execution_count": 39,
      "id": "41bc5588",
      "metadata": {
        "execution": {
          "iopub.execute_input": "2022-11-07T10:54:18.658318Z",
          "iopub.status.busy": "2022-11-07T10:54:18.657960Z",
          "iopub.status.idle": "2022-11-07T10:54:18.682992Z",
          "shell.execute_reply": "2022-11-07T10:54:18.682055Z"
        },
        "id": "41bc5588",
        "papermill": {
          "duration": 0.039746,
          "end_time": "2022-11-07T10:54:18.685472",
          "exception": false,
          "start_time": "2022-11-07T10:54:18.645726",
          "status": "completed"
        },
        "tags": []
      },
      "outputs": [],
      "source": [
        "# Training\n",
        "x=df.drop('Exited',axis=1)\n",
        "y=df.Exited\n",
        "\n",
        "from sklearn.model_selection import train_test_split\n",
        "\n",
        "xtrain,xtest,ytrain,ytest=train_test_split(x,y,test_size=0.25,random_state=15,stratify=y)"
      ]
    },
    {
      "cell_type": "code",
      "execution_count": 40,
      "id": "83f131d6",
      "metadata": {
        "execution": {
          "iopub.execute_input": "2022-11-07T10:54:18.709309Z",
          "iopub.status.busy": "2022-11-07T10:54:18.708906Z",
          "iopub.status.idle": "2022-11-07T10:54:18.717242Z",
          "shell.execute_reply": "2022-11-07T10:54:18.716328Z"
        },
        "id": "83f131d6",
        "papermill": {
          "duration": 0.023202,
          "end_time": "2022-11-07T10:54:18.719834",
          "exception": false,
          "start_time": "2022-11-07T10:54:18.696632",
          "status": "completed"
        },
        "tags": []
      },
      "outputs": [],
      "source": [
        "def ANN(xtrain,xtest,ytrain,ytest,loss,weight):\n",
        "    model=keras.Sequential([\n",
        "    keras.layers.Dense(20,input_shape=(12,),activation='relu'),\n",
        "    keras.layers.Dense(1,activation='sigmoid')\n",
        "    ])\n",
        "\n",
        "    model.compile(optimizer='adam',\n",
        "                 loss=loss,\n",
        "                 metrics=['accuracy'])\n",
        "    \n",
        "    if weight==-1:\n",
        "        model.fit(xtrain,ytrain,epochs=100)\n",
        "    else:\n",
        "        model.fit(xtrain,ytrain,epochs=100,class_weight=weight)\n",
        "    print()\n",
        "    print(model.evaluate(xtest,ytest))\n",
        "    print()\n",
        "    ypred= model.predict(xtest)\n",
        "    ypred=np.round(ypred)\n",
        "    print()\n",
        "    print(classification_report(ytest,ypred))\n",
        "        \n",
        "    return ypred"
      ]
    },
    {
      "cell_type": "code",
      "execution_count": 41,
      "id": "3e8b04a9",
      "metadata": {
        "execution": {
          "iopub.execute_input": "2022-11-07T10:54:18.744223Z",
          "iopub.status.busy": "2022-11-07T10:54:18.743577Z",
          "iopub.status.idle": "2022-11-07T10:55:02.002315Z",
          "shell.execute_reply": "2022-11-07T10:55:02.000853Z"
        },
        "id": "3e8b04a9",
        "outputId": "65345d65-18a6-4536-f11f-3bb1de65de3d",
        "papermill": {
          "duration": 43.273929,
          "end_time": "2022-11-07T10:55:02.005000",
          "exception": false,
          "start_time": "2022-11-07T10:54:18.731071",
          "status": "completed"
        },
        "tags": []
      },
      "outputs": [
        {
          "name": "stdout",
          "output_type": "stream",
          "text": [
            "Epoch 1/100\n",
            "235/235 [==============================] - 2s 3ms/step - loss: 0.5305 - accuracy: 0.7603\n",
            "Epoch 2/100\n",
            "235/235 [==============================] - 1s 3ms/step - loss: 0.4584 - accuracy: 0.8019\n",
            "Epoch 3/100\n",
            "235/235 [==============================] - 1s 3ms/step - loss: 0.4471 - accuracy: 0.8061\n",
            "Epoch 4/100\n",
            "235/235 [==============================] - 1s 3ms/step - loss: 0.4388 - accuracy: 0.8101\n",
            "Epoch 5/100\n",
            "235/235 [==============================] - 1s 3ms/step - loss: 0.4322 - accuracy: 0.8120\n",
            "Epoch 6/100\n",
            "235/235 [==============================] - 1s 3ms/step - loss: 0.4253 - accuracy: 0.8147\n",
            "Epoch 7/100\n",
            "235/235 [==============================] - 1s 3ms/step - loss: 0.4192 - accuracy: 0.8184\n",
            "Epoch 8/100\n",
            "235/235 [==============================] - 1s 4ms/step - loss: 0.4133 - accuracy: 0.8193\n",
            "Epoch 9/100\n",
            "235/235 [==============================] - 1s 4ms/step - loss: 0.4073 - accuracy: 0.8215\n",
            "Epoch 10/100\n",
            "235/235 [==============================] - 1s 3ms/step - loss: 0.4017 - accuracy: 0.8248\n",
            "Epoch 11/100\n",
            "235/235 [==============================] - 1s 3ms/step - loss: 0.3963 - accuracy: 0.8288\n",
            "Epoch 12/100\n",
            "235/235 [==============================] - 1s 3ms/step - loss: 0.3901 - accuracy: 0.8348\n",
            "Epoch 13/100\n",
            "235/235 [==============================] - 1s 3ms/step - loss: 0.3862 - accuracy: 0.8335\n",
            "Epoch 14/100\n",
            "235/235 [==============================] - 1s 3ms/step - loss: 0.3822 - accuracy: 0.8387\n",
            "Epoch 15/100\n",
            "235/235 [==============================] - 1s 3ms/step - loss: 0.3788 - accuracy: 0.8401\n",
            "Epoch 16/100\n",
            "235/235 [==============================] - 1s 3ms/step - loss: 0.3754 - accuracy: 0.8405\n",
            "Epoch 17/100\n",
            "235/235 [==============================] - 1s 3ms/step - loss: 0.3725 - accuracy: 0.8405\n",
            "Epoch 18/100\n",
            "235/235 [==============================] - 1s 3ms/step - loss: 0.3699 - accuracy: 0.8439\n",
            "Epoch 19/100\n",
            "235/235 [==============================] - 1s 3ms/step - loss: 0.3674 - accuracy: 0.8461\n",
            "Epoch 20/100\n",
            "235/235 [==============================] - 1s 3ms/step - loss: 0.3653 - accuracy: 0.8476\n",
            "Epoch 21/100\n",
            "235/235 [==============================] - 1s 3ms/step - loss: 0.3636 - accuracy: 0.8469\n",
            "Epoch 22/100\n",
            "235/235 [==============================] - 1s 3ms/step - loss: 0.3619 - accuracy: 0.8497\n",
            "Epoch 23/100\n",
            "235/235 [==============================] - 1s 3ms/step - loss: 0.3601 - accuracy: 0.8495\n",
            "Epoch 24/100\n",
            "235/235 [==============================] - 1s 3ms/step - loss: 0.3586 - accuracy: 0.8488\n",
            "Epoch 25/100\n",
            "235/235 [==============================] - 1s 3ms/step - loss: 0.3577 - accuracy: 0.8495\n",
            "Epoch 26/100\n",
            "235/235 [==============================] - 1s 3ms/step - loss: 0.3563 - accuracy: 0.8517\n",
            "Epoch 27/100\n",
            "235/235 [==============================] - 1s 4ms/step - loss: 0.3551 - accuracy: 0.8511\n",
            "Epoch 28/100\n",
            "235/235 [==============================] - 1s 4ms/step - loss: 0.3547 - accuracy: 0.8535\n",
            "Epoch 29/100\n",
            "235/235 [==============================] - 1s 4ms/step - loss: 0.3532 - accuracy: 0.8531\n",
            "Epoch 30/100\n",
            "235/235 [==============================] - 1s 4ms/step - loss: 0.3521 - accuracy: 0.8537\n",
            "Epoch 31/100\n",
            "235/235 [==============================] - 1s 4ms/step - loss: 0.3515 - accuracy: 0.8528\n",
            "Epoch 32/100\n",
            "235/235 [==============================] - 1s 4ms/step - loss: 0.3510 - accuracy: 0.8545\n",
            "Epoch 33/100\n",
            "235/235 [==============================] - 1s 4ms/step - loss: 0.3502 - accuracy: 0.8539\n",
            "Epoch 34/100\n",
            "235/235 [==============================] - 1s 4ms/step - loss: 0.3492 - accuracy: 0.8527\n",
            "Epoch 35/100\n",
            "235/235 [==============================] - 1s 3ms/step - loss: 0.3491 - accuracy: 0.8560\n",
            "Epoch 36/100\n",
            "235/235 [==============================] - 1s 4ms/step - loss: 0.3480 - accuracy: 0.8547\n",
            "Epoch 37/100\n",
            "235/235 [==============================] - 1s 4ms/step - loss: 0.3474 - accuracy: 0.8553\n",
            "Epoch 38/100\n",
            "235/235 [==============================] - 1s 3ms/step - loss: 0.3473 - accuracy: 0.8555\n",
            "Epoch 39/100\n",
            "235/235 [==============================] - 1s 3ms/step - loss: 0.3470 - accuracy: 0.8563\n",
            "Epoch 40/100\n",
            "235/235 [==============================] - 1s 3ms/step - loss: 0.3458 - accuracy: 0.8561\n",
            "Epoch 41/100\n",
            "235/235 [==============================] - 1s 4ms/step - loss: 0.3457 - accuracy: 0.8563\n",
            "Epoch 42/100\n",
            "235/235 [==============================] - 1s 4ms/step - loss: 0.3457 - accuracy: 0.8565\n",
            "Epoch 43/100\n",
            "235/235 [==============================] - 1s 3ms/step - loss: 0.3448 - accuracy: 0.8577\n",
            "Epoch 44/100\n",
            "235/235 [==============================] - 1s 3ms/step - loss: 0.3453 - accuracy: 0.8560\n",
            "Epoch 45/100\n",
            "235/235 [==============================] - 1s 4ms/step - loss: 0.3444 - accuracy: 0.8593\n",
            "Epoch 46/100\n",
            "235/235 [==============================] - 1s 3ms/step - loss: 0.3447 - accuracy: 0.8576\n",
            "Epoch 47/100\n",
            "235/235 [==============================] - 1s 4ms/step - loss: 0.3442 - accuracy: 0.8576\n",
            "Epoch 48/100\n",
            "235/235 [==============================] - 1s 4ms/step - loss: 0.3440 - accuracy: 0.8587\n",
            "Epoch 49/100\n",
            "235/235 [==============================] - 1s 4ms/step - loss: 0.3435 - accuracy: 0.8589\n",
            "Epoch 50/100\n",
            "235/235 [==============================] - 1s 3ms/step - loss: 0.3438 - accuracy: 0.8573\n",
            "Epoch 51/100\n",
            "235/235 [==============================] - 1s 4ms/step - loss: 0.3427 - accuracy: 0.8599\n",
            "Epoch 52/100\n",
            "235/235 [==============================] - 1s 3ms/step - loss: 0.3434 - accuracy: 0.8603\n",
            "Epoch 53/100\n",
            "235/235 [==============================] - 1s 3ms/step - loss: 0.3427 - accuracy: 0.8584\n",
            "Epoch 54/100\n",
            "235/235 [==============================] - 1s 3ms/step - loss: 0.3422 - accuracy: 0.8587\n",
            "Epoch 55/100\n",
            "235/235 [==============================] - 1s 4ms/step - loss: 0.3418 - accuracy: 0.8579\n",
            "Epoch 56/100\n",
            "235/235 [==============================] - 1s 4ms/step - loss: 0.3426 - accuracy: 0.8584\n",
            "Epoch 57/100\n",
            "235/235 [==============================] - 1s 4ms/step - loss: 0.3416 - accuracy: 0.8584\n",
            "Epoch 58/100\n",
            "235/235 [==============================] - 1s 3ms/step - loss: 0.3415 - accuracy: 0.8589\n",
            "Epoch 59/100\n",
            "235/235 [==============================] - 1s 3ms/step - loss: 0.3422 - accuracy: 0.8581\n",
            "Epoch 60/100\n",
            "235/235 [==============================] - 1s 3ms/step - loss: 0.3417 - accuracy: 0.8592\n",
            "Epoch 61/100\n",
            "235/235 [==============================] - 1s 3ms/step - loss: 0.3408 - accuracy: 0.8589\n",
            "Epoch 62/100\n",
            "235/235 [==============================] - 1s 3ms/step - loss: 0.3409 - accuracy: 0.8605\n",
            "Epoch 63/100\n",
            "235/235 [==============================] - 1s 4ms/step - loss: 0.3408 - accuracy: 0.8601\n",
            "Epoch 64/100\n",
            "235/235 [==============================] - 1s 4ms/step - loss: 0.3403 - accuracy: 0.8592\n",
            "Epoch 65/100\n",
            "235/235 [==============================] - 1s 3ms/step - loss: 0.3407 - accuracy: 0.8580\n",
            "Epoch 66/100\n",
            "235/235 [==============================] - 1s 3ms/step - loss: 0.3401 - accuracy: 0.8609\n",
            "Epoch 67/100\n",
            "235/235 [==============================] - 1s 4ms/step - loss: 0.3404 - accuracy: 0.8611\n",
            "Epoch 68/100\n",
            "235/235 [==============================] - 1s 3ms/step - loss: 0.3402 - accuracy: 0.8599\n",
            "Epoch 69/100\n",
            "235/235 [==============================] - 1s 4ms/step - loss: 0.3392 - accuracy: 0.8604\n",
            "Epoch 70/100\n",
            "235/235 [==============================] - 1s 4ms/step - loss: 0.3401 - accuracy: 0.8597\n",
            "Epoch 71/100\n",
            "235/235 [==============================] - 1s 4ms/step - loss: 0.3398 - accuracy: 0.8607\n",
            "Epoch 72/100\n",
            "235/235 [==============================] - 1s 4ms/step - loss: 0.3397 - accuracy: 0.8607\n",
            "Epoch 73/100\n",
            "235/235 [==============================] - 1s 4ms/step - loss: 0.3396 - accuracy: 0.8604\n",
            "Epoch 74/100\n",
            "235/235 [==============================] - 1s 3ms/step - loss: 0.3391 - accuracy: 0.8601\n",
            "Epoch 75/100\n",
            "235/235 [==============================] - 1s 3ms/step - loss: 0.3396 - accuracy: 0.8595\n",
            "Epoch 76/100\n",
            "235/235 [==============================] - 1s 4ms/step - loss: 0.3393 - accuracy: 0.8595\n",
            "Epoch 77/100\n",
            "235/235 [==============================] - 1s 4ms/step - loss: 0.3392 - accuracy: 0.8619\n",
            "Epoch 78/100\n",
            "235/235 [==============================] - 1s 3ms/step - loss: 0.3391 - accuracy: 0.8613\n",
            "Epoch 79/100\n",
            "235/235 [==============================] - 1s 4ms/step - loss: 0.3387 - accuracy: 0.8596\n",
            "Epoch 80/100\n",
            "235/235 [==============================] - 1s 3ms/step - loss: 0.3382 - accuracy: 0.8621\n",
            "Epoch 81/100\n",
            "235/235 [==============================] - 1s 3ms/step - loss: 0.3386 - accuracy: 0.8600\n",
            "Epoch 82/100\n",
            "235/235 [==============================] - 1s 3ms/step - loss: 0.3381 - accuracy: 0.8611\n",
            "Epoch 83/100\n",
            "235/235 [==============================] - 1s 3ms/step - loss: 0.3382 - accuracy: 0.8607\n",
            "Epoch 84/100\n",
            "235/235 [==============================] - 1s 4ms/step - loss: 0.3385 - accuracy: 0.8613\n",
            "Epoch 85/100\n",
            "235/235 [==============================] - 1s 4ms/step - loss: 0.3377 - accuracy: 0.8605\n",
            "Epoch 86/100\n",
            "235/235 [==============================] - 1s 4ms/step - loss: 0.3377 - accuracy: 0.8608\n",
            "Epoch 87/100\n",
            "235/235 [==============================] - 1s 4ms/step - loss: 0.3375 - accuracy: 0.8600\n",
            "Epoch 88/100\n",
            "235/235 [==============================] - 1s 4ms/step - loss: 0.3374 - accuracy: 0.8615\n",
            "Epoch 89/100\n",
            "235/235 [==============================] - 1s 4ms/step - loss: 0.3376 - accuracy: 0.8605\n",
            "Epoch 90/100\n",
            "235/235 [==============================] - 1s 3ms/step - loss: 0.3379 - accuracy: 0.8600\n",
            "Epoch 91/100\n",
            "235/235 [==============================] - 1s 4ms/step - loss: 0.3374 - accuracy: 0.8619\n",
            "Epoch 92/100\n",
            "235/235 [==============================] - 1s 3ms/step - loss: 0.3374 - accuracy: 0.8605\n",
            "Epoch 93/100\n",
            "235/235 [==============================] - 1s 4ms/step - loss: 0.3376 - accuracy: 0.8596\n",
            "Epoch 94/100\n",
            "235/235 [==============================] - 1s 4ms/step - loss: 0.3367 - accuracy: 0.8616\n",
            "Epoch 95/100\n",
            "235/235 [==============================] - 1s 3ms/step - loss: 0.3366 - accuracy: 0.8616\n",
            "Epoch 96/100\n",
            "235/235 [==============================] - 1s 3ms/step - loss: 0.3369 - accuracy: 0.8616\n",
            "Epoch 97/100\n",
            "235/235 [==============================] - 1s 4ms/step - loss: 0.3368 - accuracy: 0.8624\n",
            "Epoch 98/100\n",
            "235/235 [==============================] - 1s 3ms/step - loss: 0.3364 - accuracy: 0.8619\n",
            "Epoch 99/100\n",
            "235/235 [==============================] - 1s 3ms/step - loss: 0.3366 - accuracy: 0.8620\n",
            "Epoch 100/100\n",
            "235/235 [==============================] - 1s 3ms/step - loss: 0.3361 - accuracy: 0.8619\n",
            "\n",
            "79/79 [==============================] - 1s 3ms/step - loss: 0.3362 - accuracy: 0.8556\n",
            "[0.33617374300956726, 0.8555999994277954]\n",
            "\n",
            "79/79 [==============================] - 0s 2ms/step\n",
            "\n",
            "              precision    recall  f1-score   support\n",
            "\n",
            "           0       0.88      0.95      0.91      1991\n",
            "           1       0.71      0.50      0.58       509\n",
            "\n",
            "    accuracy                           0.86      2500\n",
            "   macro avg       0.79      0.72      0.75      2500\n",
            "weighted avg       0.85      0.86      0.85      2500\n",
            "\n"
          ]
        }
      ],
      "source": [
        "ypred=ANN(xtrain,xtest,ytrain,ytest,'binary_crossentropy',-1)"
      ]
    },
    {
      "cell_type": "code",
      "execution_count": 42,
      "id": "074332ee",
      "metadata": {
        "execution": {
          "iopub.execute_input": "2022-11-07T10:55:02.114629Z",
          "iopub.status.busy": "2022-11-07T10:55:02.114179Z",
          "iopub.status.idle": "2022-11-07T10:55:02.349923Z",
          "shell.execute_reply": "2022-11-07T10:55:02.348711Z"
        },
        "id": "074332ee",
        "outputId": "4b446def-a531-47d0-d5d4-01b4d7efa4a2",
        "papermill": {
          "duration": 0.293617,
          "end_time": "2022-11-07T10:55:02.352526",
          "exception": false,
          "start_time": "2022-11-07T10:55:02.058909",
          "status": "completed"
        },
        "tags": []
      },
      "outputs": [
        {
          "data": {
            "text/plain": [
              "Text(95.72222222222221, 0.5, 'Truth')"
            ]
          },
          "execution_count": 42,
          "metadata": {},
          "output_type": "execute_result"
        },
        {
          "data": {
            "image/png": "[encoded data removed]",
            "text/plain": [
              "<Figure size 1000x700 with 2 Axes>"
            ]
          },
          "metadata": {},
          "output_type": "display_data"
        }
      ],
      "source": [
        "cm=tf.math.confusion_matrix(labels=ytest,predictions=ypred)\n",
        "plt.figure(figsize=(10,7))\n",
        "sns.heatmap(cm,annot=True,fmt='d')\n",
        "plt.xlabel('predicted')\n",
        "plt.ylabel('Truth')"
      ]
    }
  ],
  "metadata": {
    "colab": {
      "provenance": []
    },
    "kernelspec": {
      "display_name": "Python 3.10.0 64-bit",
      "language": "python",
      "name": "python3"
    },
    "language_info": {
      "codemirror_mode": {
        "name": "ipython",
        "version": 3
      },
      "file_extension": ".py",
      "mimetype": "text/x-python",
      "name": "python",
      "nbconvert_exporter": "python",
      "pygments_lexer": "ipython3",
      "version": "3.10.0"
    },
    "papermill": {
      "default_parameters": {},
      "duration": 173.24742,
      "end_time": "2022-11-07T10:56:55.734126",
      "environment_variables": {},
      "exception": null,
      "input_path": "__notebook__.ipynb",
      "output_path": "__notebook__.ipynb",
      "parameters": {},
      "start_time": "2022-11-07T10:54:02.486706",
      "version": "2.3.4"
    },
    "vscode": {
      "interpreter": {
        "hash": "369f2c481f4da34e4445cda3fffd2e751bd1c4d706f27375911949ba6bb62e1c"
      }
    }
  },
  "nbformat": 4,
  "nbformat_minor": 5
}
