{
  "cells": [
    {
      "cell_type": "code",
      "execution_count": 1,
      "id": "8505837b",
      "metadata": {
        "execution": {
          "iopub.execute_input": "2021-10-18T16:04:42.949996Z",
          "iopub.status.busy": "2021-10-18T16:04:42.949091Z",
          "iopub.status.idle": "2021-10-18T16:04:43.727198Z",
          "shell.execute_reply": "2021-10-18T16:04:43.725996Z",
          "shell.execute_reply.started": "2021-10-18T16:02:52.919824Z"
        },
        "id": "8505837b",
        "papermill": {
          "duration": 0.800546,
          "end_time": "2021-10-18T16:04:43.727361",
          "exception": false,
          "start_time": "2021-10-18T16:04:42.926815",
          "status": "completed"
        },
        "tags": []
      },
      "outputs": [],
      "source": [
        "import numpy as np\n",
        "import pandas as pd\n",
        "import matplotlib.pyplot as plt\n",
        "from sklearn.feature_extraction.text import CountVectorizer\n",
        "from sklearn.model_selection import GridSearchCV\n",
        "from sklearn import svm"
      ]
    },
    {
      "cell_type": "code",
      "execution_count": 2,
      "id": "EL94rtxgTw4K",
      "metadata": {
        "id": "EL94rtxgTw4K"
      },
      "outputs": [],
      "source": [
        "df = pd.read_csv(\"spam.csv\",encoding='ISO-8859-1')"
      ]
    },
    {
      "cell_type": "code",
      "execution_count": 4,
      "id": "7a4fe9bf",
      "metadata": {
        "colab": {
          "base_uri": "https://localhost:8080/",
          "height": 206
        },
        "execution": {
          "iopub.execute_input": "2021-10-18T16:04:45.516085Z",
          "iopub.status.busy": "2021-10-18T16:04:45.515516Z",
          "iopub.status.idle": "2021-10-18T16:04:45.534685Z",
          "shell.execute_reply": "2021-10-18T16:04:45.535100Z",
          "shell.execute_reply.started": "2021-10-18T16:02:54.812000Z"
        },
        "id": "7a4fe9bf",
        "outputId": "ac7b1e0a-4c77-4917-d1b1-a05eed5bcbcc",
        "papermill": {
          "duration": 0.038833,
          "end_time": "2021-10-18T16:04:45.535268",
          "exception": false,
          "start_time": "2021-10-18T16:04:45.496435",
          "status": "completed"
        },
        "tags": []
      },
      "outputs": [
        {
          "data": {
            "text/html": [
              "<div>\n",
              "<style scoped>\n",
              "    .dataframe tbody tr th:only-of-type {\n",
              "        vertical-align: middle;\n",
              "    }\n",
              "\n",
              "    .dataframe tbody tr th {\n",
              "        vertical-align: top;\n",
              "    }\n",
              "\n",
              "    .dataframe thead th {\n",
              "        text-align: right;\n",
              "    }\n",
              "</style>\n",
              "<table border=\"1\" class=\"dataframe\">\n",
              "  <thead>\n",
              "    <tr style=\"text-align: right;\">\n",
              "      <th></th>\n",
              "      <th>v1</th>\n",
              "      <th>v2</th>\n",
              "      <th>Unnamed: 2</th>\n",
              "      <th>Unnamed: 3</th>\n",
              "      <th>Unnamed: 4</th>\n",
              "    </tr>\n",
              "  </thead>\n",
              "  <tbody>\n",
              "    <tr>\n",
              "      <th>0</th>\n",
              "      <td>ham</td>\n",
              "      <td>Go until jurong point, crazy.. Available only ...</td>\n",
              "      <td>NaN</td>\n",
              "      <td>NaN</td>\n",
              "      <td>NaN</td>\n",
              "    </tr>\n",
              "    <tr>\n",
              "      <th>1</th>\n",
              "      <td>ham</td>\n",
              "      <td>Ok lar... Joking wif u oni...</td>\n",
              "      <td>NaN</td>\n",
              "      <td>NaN</td>\n",
              "      <td>NaN</td>\n",
              "    </tr>\n",
              "    <tr>\n",
              "      <th>2</th>\n",
              "      <td>spam</td>\n",
              "      <td>Free entry in 2 a wkly comp to win FA Cup fina...</td>\n",
              "      <td>NaN</td>\n",
              "      <td>NaN</td>\n",
              "      <td>NaN</td>\n",
              "    </tr>\n",
              "    <tr>\n",
              "      <th>3</th>\n",
              "      <td>ham</td>\n",
              "      <td>U dun say so early hor... U c already then say...</td>\n",
              "      <td>NaN</td>\n",
              "      <td>NaN</td>\n",
              "      <td>NaN</td>\n",
              "    </tr>\n",
              "    <tr>\n",
              "      <th>4</th>\n",
              "      <td>ham</td>\n",
              "      <td>Nah I don't think he goes to usf, he lives aro...</td>\n",
              "      <td>NaN</td>\n",
              "      <td>NaN</td>\n",
              "      <td>NaN</td>\n",
              "    </tr>\n",
              "  </tbody>\n",
              "</table>\n",
              "</div>"
            ],
            "text/plain": [
              "     v1                                                 v2 Unnamed: 2  \\\n",
              "0   ham  Go until jurong point, crazy.. Available only ...        NaN   \n",
              "1   ham                      Ok lar... Joking wif u oni...        NaN   \n",
              "2  spam  Free entry in 2 a wkly comp to win FA Cup fina...        NaN   \n",
              "3   ham  U dun say so early hor... U c already then say...        NaN   \n",
              "4   ham  Nah I don't think he goes to usf, he lives aro...        NaN   \n",
              "\n",
              "  Unnamed: 3 Unnamed: 4  \n",
              "0        NaN        NaN  \n",
              "1        NaN        NaN  \n",
              "2        NaN        NaN  \n",
              "3        NaN        NaN  \n",
              "4        NaN        NaN  "
            ]
          },
          "execution_count": 4,
          "metadata": {},
          "output_type": "execute_result"
        }
      ],
      "source": [
        "df.head()"
      ]
    },
    {
      "cell_type": "code",
      "execution_count": 5,
      "id": "0bae8ebc",
      "metadata": {
        "colab": {
          "base_uri": "https://localhost:8080/"
        },
        "execution": {
          "iopub.execute_input": "2021-10-18T16:04:45.578803Z",
          "iopub.status.busy": "2021-10-18T16:04:45.563859Z",
          "iopub.status.idle": "2021-10-18T16:04:45.776829Z",
          "shell.execute_reply": "2021-10-18T16:04:45.775952Z",
          "shell.execute_reply.started": "2021-10-18T16:02:54.834024Z"
        },
        "id": "0bae8ebc",
        "outputId": "422e79d3-7135-4263-9147-82c201cfc1c8",
        "papermill": {
          "duration": 0.228415,
          "end_time": "2021-10-18T16:04:45.777012",
          "exception": false,
          "start_time": "2021-10-18T16:04:45.548597",
          "status": "completed"
        },
        "tags": []
      },
      "outputs": [
        {
          "name": "stdout",
          "output_type": "stream",
          "text": [
            "<class 'pandas.core.frame.DataFrame'>\n",
            "RangeIndex: 5572 entries, 0 to 5571\n",
            "Data columns (total 5 columns):\n",
            " #   Column      Non-Null Count  Dtype \n",
            "---  ------      --------------  ----- \n",
            " 0   v1          5572 non-null   object\n",
            " 1   v2          5572 non-null   object\n",
            " 2   Unnamed: 2  50 non-null     object\n",
            " 3   Unnamed: 3  12 non-null     object\n",
            " 4   Unnamed: 4  6 non-null      object\n",
            "dtypes: object(5)\n",
            "memory usage: 217.8+ KB\n"
          ]
        }
      ],
      "source": [
        "df.info()"
      ]
    },
    {
      "cell_type": "code",
      "execution_count": 6,
      "id": "1d785e78",
      "metadata": {
        "colab": {
          "base_uri": "https://localhost:8080/"
        },
        "execution": {
          "iopub.execute_input": "2021-10-18T16:04:45.808813Z",
          "iopub.status.busy": "2021-10-18T16:04:45.808171Z",
          "iopub.status.idle": "2021-10-18T16:04:45.839782Z",
          "shell.execute_reply": "2021-10-18T16:04:45.839277Z",
          "shell.execute_reply.started": "2021-10-18T16:02:55.110572Z"
        },
        "id": "1d785e78",
        "outputId": "f0bc9b7f-d44d-4e3d-ce76-09343717556d",
        "papermill": {
          "duration": 0.048564,
          "end_time": "2021-10-18T16:04:45.839915",
          "exception": false,
          "start_time": "2021-10-18T16:04:45.791351",
          "status": "completed"
        },
        "tags": []
      },
      "outputs": [
        {
          "data": {
            "text/plain": [
              "v1               0\n",
              "v2               0\n",
              "Unnamed: 2    5522\n",
              "Unnamed: 3    5560\n",
              "Unnamed: 4    5566\n",
              "dtype: int64"
            ]
          },
          "execution_count": 6,
          "metadata": {},
          "output_type": "execute_result"
        }
      ],
      "source": [
        "df.isnull().sum()"
      ]
    },
    {
      "cell_type": "markdown",
      "id": "b8570501",
      "metadata": {
        "id": "b8570501",
        "papermill": {
          "duration": 0.01322,
          "end_time": "2021-10-18T16:04:45.866694",
          "exception": false,
          "start_time": "2021-10-18T16:04:45.853474",
          "status": "completed"
        },
        "tags": []
      },
      "source": [
        "###### Modelling"
      ]
    },
    {
      "cell_type": "code",
      "execution_count": 7,
      "id": "c3cb6c24",
      "metadata": {
        "execution": {
          "iopub.execute_input": "2021-10-18T16:04:45.897798Z",
          "iopub.status.busy": "2021-10-18T16:04:45.897078Z",
          "iopub.status.idle": "2021-10-18T16:04:46.060294Z",
          "shell.execute_reply": "2021-10-18T16:04:46.060823Z",
          "shell.execute_reply.started": "2021-10-18T16:02:55.154162Z"
        },
        "id": "c3cb6c24",
        "papermill": {
          "duration": 0.181105,
          "end_time": "2021-10-18T16:04:46.061018",
          "exception": false,
          "start_time": "2021-10-18T16:04:45.879913",
          "status": "completed"
        },
        "tags": []
      },
      "outputs": [],
      "source": [
        "from sklearn.model_selection import train_test_split"
      ]
    },
    {
      "cell_type": "code",
      "execution_count": 8,
      "id": "828a6bae",
      "metadata": {
        "execution": {
          "iopub.execute_input": "2021-10-18T16:04:46.154382Z",
          "iopub.status.busy": "2021-10-18T16:04:46.153586Z",
          "iopub.status.idle": "2021-10-18T16:04:46.157029Z",
          "shell.execute_reply": "2021-10-18T16:04:46.156531Z",
          "shell.execute_reply.started": "2021-10-18T16:02:55.160955Z"
        },
        "id": "828a6bae",
        "papermill": {
          "duration": 0.078003,
          "end_time": "2021-10-18T16:04:46.157185",
          "exception": false,
          "start_time": "2021-10-18T16:04:46.079182",
          "status": "completed"
        },
        "tags": []
      },
      "outputs": [],
      "source": [
        "X = df[\"v2\"].values\n",
        "y = df[\"v1\"].values"
      ]
    },
    {
      "cell_type": "code",
      "execution_count": 9,
      "id": "5f2a02f2",
      "metadata": {
        "execution": {
          "iopub.execute_input": "2021-10-18T16:04:46.189570Z",
          "iopub.status.busy": "2021-10-18T16:04:46.188912Z",
          "iopub.status.idle": "2021-10-18T16:04:46.191513Z",
          "shell.execute_reply": "2021-10-18T16:04:46.191976Z",
          "shell.execute_reply.started": "2021-10-18T16:02:55.225336Z"
        },
        "id": "5f2a02f2",
        "papermill": {
          "duration": 0.021469,
          "end_time": "2021-10-18T16:04:46.192118",
          "exception": false,
          "start_time": "2021-10-18T16:04:46.170649",
          "status": "completed"
        },
        "tags": []
      },
      "outputs": [],
      "source": [
        "from sklearn.model_selection import train_test_split\n",
        "X_train, X_test, y_train, y_test = train_test_split( X, y, test_size=0.2, random_state=0)"
      ]
    },
    {
      "cell_type": "code",
      "execution_count": 10,
      "id": "82197264",
      "metadata": {
        "execution": {
          "iopub.execute_input": "2021-10-18T16:04:46.222181Z",
          "iopub.status.busy": "2021-10-18T16:04:46.221575Z",
          "iopub.status.idle": "2021-10-18T16:04:46.416138Z",
          "shell.execute_reply": "2021-10-18T16:04:46.416633Z",
          "shell.execute_reply.started": "2021-10-18T16:02:55.240351Z"
        },
        "id": "82197264",
        "papermill": {
          "duration": 0.211084,
          "end_time": "2021-10-18T16:04:46.416828",
          "exception": false,
          "start_time": "2021-10-18T16:04:46.205744",
          "status": "completed"
        },
        "tags": []
      },
      "outputs": [],
      "source": [
        "# Converting String to Integer\n",
        "cv = CountVectorizer() \n",
        "X_train = cv.fit_transform(X_train)\n",
        "X_test = cv.transform(X_test)"
      ]
    },
    {
      "cell_type": "code",
      "execution_count": 11,
      "id": "bc34e6ed",
      "metadata": {
        "colab": {
          "base_uri": "https://localhost:8080/"
        },
        "execution": {
          "iopub.execute_input": "2021-10-18T16:04:46.477033Z",
          "iopub.status.busy": "2021-10-18T16:04:46.476447Z",
          "iopub.status.idle": "2021-10-18T16:04:46.649932Z",
          "shell.execute_reply": "2021-10-18T16:04:46.648873Z",
          "shell.execute_reply.started": "2021-10-18T16:02:55.440054Z"
        },
        "id": "bc34e6ed",
        "outputId": "e817f854-c3ec-4235-e478-00d16e5f6c1d",
        "papermill": {
          "duration": 0.190527,
          "end_time": "2021-10-18T16:04:46.650076",
          "exception": false,
          "start_time": "2021-10-18T16:04:46.459549",
          "status": "completed"
        },
        "tags": []
      },
      "outputs": [
        {
          "data": {
            "text/html": [
              "<style>#sk-container-id-1 {color: black;background-color: white;}#sk-container-id-1 pre{padding: 0;}#sk-container-id-1 div.sk-toggleable {background-color: white;}#sk-container-id-1 label.sk-toggleable__label {cursor: pointer;display: block;width: 100%;margin-bottom: 0;padding: 0.3em;box-sizing: border-box;text-align: center;}#sk-container-id-1 label.sk-toggleable__label-arrow:before {content: \"▸\";float: left;margin-right: 0.25em;color: #696969;}#sk-container-id-1 label.sk-toggleable__label-arrow:hover:before {color: black;}#sk-container-id-1 div.sk-estimator:hover label.sk-toggleable__label-arrow:before {color: black;}#sk-container-id-1 div.sk-toggleable__content {max-height: 0;max-width: 0;overflow: hidden;text-align: left;background-color: #f0f8ff;}#sk-container-id-1 div.sk-toggleable__content pre {margin: 0.2em;color: black;border-radius: 0.25em;background-color: #f0f8ff;}#sk-container-id-1 input.sk-toggleable__control:checked~div.sk-toggleable__content {max-height: 200px;max-width: 100%;overflow: auto;}#sk-container-id-1 input.sk-toggleable__control:checked~label.sk-toggleable__label-arrow:before {content: \"▾\";}#sk-container-id-1 div.sk-estimator input.sk-toggleable__control:checked~label.sk-toggleable__label {background-color: #d4ebff;}#sk-container-id-1 div.sk-label input.sk-toggleable__control:checked~label.sk-toggleable__label {background-color: #d4ebff;}#sk-container-id-1 input.sk-hidden--visually {border: 0;clip: rect(1px 1px 1px 1px);clip: rect(1px, 1px, 1px, 1px);height: 1px;margin: -1px;overflow: hidden;padding: 0;position: absolute;width: 1px;}#sk-container-id-1 div.sk-estimator {font-family: monospace;background-color: #f0f8ff;border: 1px dotted black;border-radius: 0.25em;box-sizing: border-box;margin-bottom: 0.5em;}#sk-container-id-1 div.sk-estimator:hover {background-color: #d4ebff;}#sk-container-id-1 div.sk-parallel-item::after {content: \"\";width: 100%;border-bottom: 1px solid gray;flex-grow: 1;}#sk-container-id-1 div.sk-label:hover label.sk-toggleable__label {background-color: #d4ebff;}#sk-container-id-1 div.sk-serial::before {content: \"\";position: absolute;border-left: 1px solid gray;box-sizing: border-box;top: 0;bottom: 0;left: 50%;z-index: 0;}#sk-container-id-1 div.sk-serial {display: flex;flex-direction: column;align-items: center;background-color: white;padding-right: 0.2em;padding-left: 0.2em;position: relative;}#sk-container-id-1 div.sk-item {position: relative;z-index: 1;}#sk-container-id-1 div.sk-parallel {display: flex;align-items: stretch;justify-content: center;background-color: white;position: relative;}#sk-container-id-1 div.sk-item::before, #sk-container-id-1 div.sk-parallel-item::before {content: \"\";position: absolute;border-left: 1px solid gray;box-sizing: border-box;top: 0;bottom: 0;left: 50%;z-index: -1;}#sk-container-id-1 div.sk-parallel-item {display: flex;flex-direction: column;z-index: 1;position: relative;background-color: white;}#sk-container-id-1 div.sk-parallel-item:first-child::after {align-self: flex-end;width: 50%;}#sk-container-id-1 div.sk-parallel-item:last-child::after {align-self: flex-start;width: 50%;}#sk-container-id-1 div.sk-parallel-item:only-child::after {width: 0;}#sk-container-id-1 div.sk-dashed-wrapped {border: 1px dashed gray;margin: 0 0.4em 0.5em 0.4em;box-sizing: border-box;padding-bottom: 0.4em;background-color: white;}#sk-container-id-1 div.sk-label label {font-family: monospace;font-weight: bold;display: inline-block;line-height: 1.2em;}#sk-container-id-1 div.sk-label-container {text-align: center;}#sk-container-id-1 div.sk-container {/* jupyter's `normalize.less` sets `[hidden] { display: none; }` but bootstrap.min.css set `[hidden] { display: none !important; }` so we also need the `!important` here to be able to override the default hidden behavior on the sphinx rendered scikit-learn.org. See: https://github.com/scikit-learn/scikit-learn/issues/21755 */display: inline-block !important;position: relative;}#sk-container-id-1 div.sk-text-repr-fallback {display: none;}</style><div id=\"sk-container-id-1\" class=\"sk-top-container\"><div class=\"sk-text-repr-fallback\"><pre>SVC(random_state=0)</pre><b>In a Jupyter environment, please rerun this cell to show the HTML representation or trust the notebook. <br />On GitHub, the HTML representation is unable to render, please try loading this page with nbviewer.org.</b></div><div class=\"sk-container\" hidden><div class=\"sk-item\"><div class=\"sk-estimator sk-toggleable\"><input class=\"sk-toggleable__control sk-hidden--visually\" id=\"sk-estimator-id-1\" type=\"checkbox\" checked><label for=\"sk-estimator-id-1\" class=\"sk-toggleable__label sk-toggleable__label-arrow\">SVC</label><div class=\"sk-toggleable__content\"><pre>SVC(random_state=0)</pre></div></div></div></div></div>"
            ],
            "text/plain": [
              "SVC(random_state=0)"
            ]
          },
          "execution_count": 11,
          "metadata": {},
          "output_type": "execute_result"
        }
      ],
      "source": [
        "from sklearn.svm import SVC\n",
        "classifier = SVC(kernel = \"rbf\", random_state = 0)\n",
        "classifier.fit(X_train, y_train)"
      ]
    },
    {
      "cell_type": "code",
      "execution_count": 12,
      "id": "c7c6f4f1",
      "metadata": {
        "colab": {
          "base_uri": "https://localhost:8080/"
        },
        "execution": {
          "iopub.execute_input": "2021-10-18T16:04:46.682201Z",
          "iopub.status.busy": "2021-10-18T16:04:46.680127Z",
          "iopub.status.idle": "2021-10-18T16:04:46.751267Z",
          "shell.execute_reply": "2021-10-18T16:04:46.751714Z",
          "shell.execute_reply.started": "2021-10-18T16:02:55.448225Z"
        },
        "id": "c7c6f4f1",
        "outputId": "ca1c4f1a-b0e4-4735-c4fd-17ee62de7864",
        "papermill": {
          "duration": 0.087903,
          "end_time": "2021-10-18T16:04:46.751875",
          "exception": false,
          "start_time": "2021-10-18T16:04:46.663972",
          "status": "completed"
        },
        "tags": []
      },
      "outputs": [
        {
          "name": "stdout",
          "output_type": "stream",
          "text": [
            "0.9766816143497757\n"
          ]
        }
      ],
      "source": [
        "print(classifier.score(X_test,y_test))\n"
      ]
    },
    {
      "cell_type": "code",
      "execution_count": 13,
      "id": "5eb3b770",
      "metadata": {
        "execution": {
          "iopub.execute_input": "2021-10-18T16:04:49.742134Z",
          "iopub.status.busy": "2021-10-18T16:04:49.741539Z",
          "iopub.status.idle": "2021-10-18T16:04:49.744198Z",
          "shell.execute_reply": "2021-10-18T16:04:49.743760Z",
          "shell.execute_reply.started": "2021-10-18T16:02:58.787024Z"
        },
        "id": "5eb3b770",
        "papermill": {
          "duration": 0.021364,
          "end_time": "2021-10-18T16:04:49.744314",
          "exception": false,
          "start_time": "2021-10-18T16:04:49.722950",
          "status": "completed"
        },
        "tags": []
      },
      "outputs": [],
      "source": [
        "from sklearn.metrics import plot_confusion_matrix,classification_report,plot_precision_recall_curve,plot_roc_curve"
      ]
    },
    {
      "cell_type": "code",
      "execution_count": 14,
      "id": "023b6fb6",
      "metadata": {
        "execution": {
          "iopub.execute_input": "2021-10-18T16:04:49.775543Z",
          "iopub.status.busy": "2021-10-18T16:04:49.775023Z",
          "iopub.status.idle": "2021-10-18T16:04:49.778673Z",
          "shell.execute_reply": "2021-10-18T16:04:49.779141Z",
          "shell.execute_reply.started": "2021-10-18T16:02:58.794365Z"
        },
        "id": "023b6fb6",
        "papermill": {
          "duration": 0.020935,
          "end_time": "2021-10-18T16:04:49.779411",
          "exception": false,
          "start_time": "2021-10-18T16:04:49.758476",
          "status": "completed"
        },
        "tags": []
      },
      "outputs": [],
      "source": [
        "def report(model):\n",
        "    preds = model.predict(X_test)\n",
        "    print(classification_report(preds,y_test))\n",
        "    plot_confusion_matrix(model,X_test,y_test)\n",
        "    plot_precision_recall_curve(model,X_test,y_test)\n",
        "    plot_roc_curve(model,X_test,y_test)"
      ]
    },
    {
      "cell_type": "code",
      "execution_count": 15,
      "id": "2400913b",
      "metadata": {
        "colab": {
          "base_uri": "https://localhost:8080/",
          "height": 977
        },
        "execution": {
          "iopub.execute_input": "2021-10-18T16:04:49.813720Z",
          "iopub.status.busy": "2021-10-18T16:04:49.812596Z",
          "iopub.status.idle": "2021-10-18T16:04:50.474286Z",
          "shell.execute_reply": "2021-10-18T16:04:50.474738Z",
          "shell.execute_reply.started": "2021-10-18T16:02:58.807643Z"
        },
        "id": "2400913b",
        "outputId": "5bb3190c-d0ac-4778-e6c1-b549f657eab2",
        "papermill": {
          "duration": 0.681211,
          "end_time": "2021-10-18T16:04:50.474901",
          "exception": false,
          "start_time": "2021-10-18T16:04:49.793690",
          "status": "completed"
        },
        "tags": []
      },
      "outputs": [
        {
          "name": "stdout",
          "output_type": "stream",
          "text": [
            "SVM MODEL\n",
            "              precision    recall  f1-score   support\n",
            "\n",
            "         ham       1.00      0.97      0.99       975\n",
            "        spam       0.84      1.00      0.92       140\n",
            "\n",
            "    accuracy                           0.98      1115\n",
            "   macro avg       0.92      0.99      0.95      1115\n",
            "weighted avg       0.98      0.98      0.98      1115\n",
            "\n"
          ]
        },
        {
          "name": "stderr",
          "output_type": "stream",
          "text": [
            "C:\\Users\\visha\\AppData\\Roaming\\Python\\Python310\\site-packages\\sklearn\\utils\\deprecation.py:87: FutureWarning: Function plot_confusion_matrix is deprecated; Function `plot_confusion_matrix` is deprecated in 1.0 and will be removed in 1.2. Use one of the class methods: ConfusionMatrixDisplay.from_predictions or ConfusionMatrixDisplay.from_estimator.\n",
            "  warnings.warn(msg, category=FutureWarning)\n",
            "C:\\Users\\visha\\AppData\\Roaming\\Python\\Python310\\site-packages\\sklearn\\utils\\deprecation.py:87: FutureWarning: Function plot_precision_recall_curve is deprecated; Function `plot_precision_recall_curve` is deprecated in 1.0 and will be removed in 1.2. Use one of the class methods: PrecisionRecallDisplay.from_predictions or PrecisionRecallDisplay.from_estimator.\n",
            "  warnings.warn(msg, category=FutureWarning)\n",
            "C:\\Users\\visha\\AppData\\Roaming\\Python\\Python310\\site-packages\\sklearn\\utils\\deprecation.py:87: FutureWarning: Function plot_roc_curve is deprecated; Function :func:`plot_roc_curve` is deprecated in 1.0 and will be removed in 1.2. Use one of the class methods: :meth:`sklearn.metrics.RocCurveDisplay.from_predictions` or :meth:`sklearn.metrics.RocCurveDisplay.from_estimator`.\n",
            "  warnings.warn(msg, category=FutureWarning)\n"
          ]
        },
        {
          "data": {
            "image/png": "[encoded data removed]",
            "text/plain": [
              "<Figure size 640x480 with 2 Axes>"
            ]
          },
          "metadata": {},
          "output_type": "display_data"
        },
        {
          "data": {
            "image/png": "[encoded data removed]",
            "text/plain": [
              "<Figure size 640x480 with 1 Axes>"
            ]
          },
          "metadata": {},
          "output_type": "display_data"
        },
        {
          "data": {
            "image/png": "[encoded data removed]",
            "text/plain": [
              "<Figure size 640x480 with 1 Axes>"
            ]
          },
          "metadata": {},
          "output_type": "display_data"
        }
      ],
      "source": [
        "print(\"SVM MODEL\")\n",
        "report(classifier)"
      ]
    }
  ],
  "metadata": {
    "colab": {
      "provenance": []
    },
    "kernelspec": {
      "display_name": "Python 3.10.0 64-bit",
      "language": "python",
      "name": "python3"
    },
    "language_info": {
      "codemirror_mode": {
        "name": "ipython",
        "version": 3
      },
      "file_extension": ".py",
      "mimetype": "text/x-python",
      "name": "python",
      "nbconvert_exporter": "python",
      "pygments_lexer": "ipython3",
      "version": "3.10.0"
    },
    "papermill": {
      "default_parameters": {},
      "duration": 17.623429,
      "end_time": "2021-10-18T16:04:52.990316",
      "environment_variables": {},
      "exception": null,
      "input_path": "__notebook__.ipynb",
      "output_path": "__notebook__.ipynb",
      "parameters": {},
      "start_time": "2021-10-18T16:04:35.366887",
      "version": "2.3.3"
    },
    "vscode": {
      "interpreter": {
        "hash": "369f2c481f4da34e4445cda3fffd2e751bd1c4d706f27375911949ba6bb62e1c"
      }
    }
  },
  "nbformat": 4,
  "nbformat_minor": 5
}
